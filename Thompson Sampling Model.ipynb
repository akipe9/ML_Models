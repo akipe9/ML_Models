{
 "cells": [
  {
   "cell_type": "code",
   "execution_count": null,
   "metadata": {},
   "outputs": [],
   "source": [
    "# Thompson Sampling"
   ]
  },
  {
   "cell_type": "code",
   "execution_count": 1,
   "metadata": {},
   "outputs": [],
   "source": [
    "# Importing the libraries\n",
    "import numpy as np\n",
    "import matplotlib.pyplot as plt\n",
    "import pandas as pd"
   ]
  },
  {
   "cell_type": "code",
   "execution_count": 2,
   "metadata": {},
   "outputs": [],
   "source": [
    "# Importing the dataset\n",
    "dataset = pd.read_csv(r'C:\\Users\\akiper\\Desktop\\Machine Learning Course\\Machine-Learning-A-Z-New\\Machine Learning A-Z New\\Part 6 - Reinforcement Learning\\Section 33 - Thompson Sampling\\Ads_CTR_Optimisation.csv')"
   ]
  },
  {
   "cell_type": "code",
   "execution_count": 46,
   "metadata": {},
   "outputs": [],
   "source": [
    "#Implementing UCB\n",
    "import random\n",
    "N = 500 # Total number of users\n",
    "d = 10 #Number of ads\n",
    "ads_selected = [] #full list of ads that are selected over the rounds/users\n",
    "numbers_of_reward_1 = [0] * d\n",
    "numbers_of_reward_0 = [0] * d\n",
    "total_reward = 0\n",
    "for n in range(0, N): #iterate through each round; each round we will show a user an ad and they will select yes or no\n",
    "    ad = 0 #The ad that will be selected at each round, N\n",
    "    max_random = 0 #maximum of random draws/highest value that can be attained from randomly selecting ad\n",
    "    for i in range(0, d):\n",
    "        random_beta = random.betavariate(numbers_of_reward_1[i] + 1, numbers_of_reward_0[i] + 1)\n",
    "        if(random_beta > max_random): #check if random draw is higher than max random draw; if so, max random draw has to be updated to become new random beta; at same time, we will select that ad \n",
    "            max_random = random_beta\n",
    "            ad = i\n",
    "    ads_selected.append(ad) #appends ad to full list of ads selected; input of histogram \n",
    "    reward = dataset.values[n, ad] #value in the dataset corresponding to the row we are dealing with in the 1st for loop and the column of the ad that was just selected;the reward is the value we get after selecting this ad to show this specific user\n",
    "    if reward == 1:\n",
    "        numbers_of_reward_1[ad] = numbers_of_reward_1[ad] + 1\n",
    "    else: \n",
    "        numbers_of_reward_0[ad] = numbers_of_reward_0[ad] + 1\n",
    "    total_reward = total_reward + reward"
   ]
  },
  {
   "cell_type": "code",
   "execution_count": 47,
   "metadata": {},
   "outputs": [
    {
     "data": {
      "image/png": "[encoded data removed]",
      "text/plain": [
       "<Figure size 432x288 with 1 Axes>"
      ]
     },
     "metadata": {
      "needs_background": "light"
     },
     "output_type": "display_data"
    }
   ],
   "source": [
    "#Visualizing the results\n",
    "plt.hist(ads_selected)\n",
    "plt.title('Histogram of Ads Selections')\n",
    "plt.xlabel('Ads')\n",
    "plt.ylabel('Number of times each ad was selected')\n",
    "plt.show()"
   ]
  },
  {
   "cell_type": "code",
   "execution_count": null,
   "metadata": {},
   "outputs": [],
   "source": []
  }
 ],
 "metadata": {
  "kernelspec": {
   "display_name": "Python 3",
   "language": "python",
   "name": "python3"
  },
  "language_info": {
   "codemirror_mode": {
    "name": "ipython",
    "version": 3
   },
   "file_extension": ".py",
   "mimetype": "text/x-python",
   "name": "python",
   "nbconvert_exporter": "python",
   "pygments_lexer": "ipython3",
   "version": "3.7.4"
  }
 },
 "nbformat": 4,
 "nbformat_minor": 2
}
